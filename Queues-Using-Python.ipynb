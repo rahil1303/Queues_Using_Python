{
 "cells": [
  {
   "cell_type": "markdown",
   "metadata": {},
   "source": [
    "# DATA STRUCTURES USING PYTHON"
   ]
  },
  {
   "cell_type": "markdown",
   "metadata": {},
   "source": [
    "## QUEUES USING PYTHON\n",
    "In this notebook we will study the concepts of:\n",
    "1. Creating Queues\n",
    "2. Enqueue()\n",
    "3. Dequeue()\n",
    "4. peek()\n",
    "5. delete()\n",
    "6. isEmpty()\n",
    "7. isFull()\n",
    "\n",
    "What is a Queue? It is a data structure that stores items in the First In First Out method.\n",
    "-> A new addition to this queue happens at the end f the queue.\n",
    "-> First element entered in the queue will always be served first.\n",
    "-> FIFO: First In First Out Method\n",
    "It mean whichever element enters first, it will leave first as well. \n",
    "\n",
    "Some examples of the Queue data structure will be a typical line inside a shop or a single lane one way road where the vehicle enters first and exits first as well. Ticketing Windows or Bus Stops etc.\n",
    "In the computer world, \n",
    "1. When a resource is shared along it's multiple users and consumers. Example: CPU Scheduling, Disk Sheduling.\n",
    "2. When the data is transferred asynchronusly between two processes. IO Buffers, Pipes, File IO\n",
    "3. In the Operating systems: semaphores and FC~FS (First Come First Serve)\n",
    "4. IN PRINTERS\n",
    "5. DEVICES LIKE KEYBOARD\n",
    "6. MUSIC PLAYLIST\n",
    "7. QUEUES IN ROUTERS AND SWITCHES\n",
    "8. MAILING SYSTEM\n",
    "9. SALE SYSTEM OF A RESTEAURANT SYSTEM LIKE MCDONALDS\n",
    "10. CALL CENTRE SYSTEMS AND APPLICATIONS\n",
    "What we need Queue Data Structure? To utlize first coming data first while others wait for their turn. \n",
    "\n",
    "IMPLEMENTATION OF QUEUES CAN BE DONE BY:\n",
    "1. Python Lists: - Queues without capacity\n",
    "                 - Queues with capaity (circular queues)\n",
    "2. Linked List\n",
    "\n",
    "\n",
    "## QUEUES USING PYTHON LISTS"
   ]
  },
  {
   "cell_type": "markdown",
   "metadata": {},
   "source": [
    "1. Create Queue using Python List with no Capacity\n",
    "2. Initialize an empty Python list. We can insert as many elements in it. \n",
    "3. Inserting a element in a queue is called enqueue().Parameter to be entered should be given\n",
    "4. Removing/Deleting the elements from the queue is called the dequeue() method. No parameters required.\n",
    "5. Peek() operation is operating is for only viewing the first value entered. FIFO.\n",
    "6. isEmpty() method is used if there is any queue in the list. \n",
    "7. Delete the entire queue for all elements to be deleted from the queue."
   ]
  },
  {
   "cell_type": "code",
   "execution_count": 7,
   "metadata": {},
   "outputs": [
    {
     "name": "stdout",
     "output_type": "stream",
     "text": [
      "True\n",
      "Enqueue Method Test\n",
      "5 4 3 2 1\n",
      "Dequeue Method Test\n",
      "5\n",
      "Peek Method test\n",
      "4\n"
     ]
    }
   ],
   "source": [
    "class Queue:\n",
    "    ### Create a Queue\n",
    "    def __init__(self):\n",
    "        self.lists = []\n",
    "    def __str__(self):\n",
    "        values = [str(x) for x in self.lists]\n",
    "        return \" \".join(values)\n",
    "    \n",
    "    # TIME COMPLEXITY = O(1)\n",
    "    # SPACE COMPLEXITY = O(1)\n",
    "    \n",
    "    ### isEmpty() Method\n",
    "    def isEmpty(self):\n",
    "        if self.lists == []:\n",
    "            return True\n",
    "        else:\n",
    "            return False\n",
    "    # TIME COMPLEXITY = O(1)\n",
    "    # SPACE COMPLEXITY = O(1)\n",
    "    \n",
    "    ### Enqeuue() Method\n",
    "    def enqueue(self,value):\n",
    "        self.lists.append(value)\n",
    "        return \"The element is inserted at the end of the queue\"\n",
    "    # TIME COMPLEXITY = O(n)\n",
    "    # SPACE COMPLEXITY = O(1)\n",
    "    \n",
    "    \n",
    "    ### Dequeue() Method\n",
    "    def dequeue(self):\n",
    "        if self.isEmpty():\n",
    "            return \"This is not ny element in the queue\"\n",
    "        else:\n",
    "            return self.lists.pop(0)\n",
    "        \n",
    "    # TIME COMPLEXITY = O(n)\n",
    "    # SPACE COMPLEXITY = O(1)\n",
    "    \n",
    "    \n",
    "    ### peek() method\n",
    "    def peek(self):\n",
    "        if self.isEmpty():\n",
    "            return \"There is not any element in the Queue\"\n",
    "        else:\n",
    "            return self.lists[0]\n",
    "    \n",
    "    # TIME COMPLEXITY = O(1)\n",
    "    # SPACE COMPLEXITY = O(1)\n",
    "    \n",
    "    \n",
    "    ### delete() method\n",
    "    def delete(self):\n",
    "        self.lists = None\n",
    "    ### TIME COMPLEXITY = O(1)\n",
    "    ### SPACE COMPLEXITY = O(1)\n",
    "        \n",
    "        \n",
    "        \n",
    "### Test the code:\n",
    "customQueue = Queue()\n",
    "print(customQueue.isEmpty())\n",
    "print(\"Enqueue Method Test\")\n",
    "customQueue.enqueue(5)\n",
    "customQueue.enqueue(4)\n",
    "customQueue.enqueue(3)\n",
    "customQueue.enqueue(2)\n",
    "customQueue.enqueue(1)\n",
    "print(customQueue)\n",
    "print(\"Dequeue Method Test\")\n",
    "print(customQueue.dequeue())\n",
    "print(\"Peek Method test\")\n",
    "print(customQueue.peek())"
   ]
  },
  {
   "cell_type": "markdown",
   "metadata": {},
   "source": [
    "### Circular Queue using Python Lists\n",
    "Ciruclar Queues provides better memory management and saves time. To avoid this a circular queue is used. "
   ]
  },
  {
   "cell_type": "code",
   "execution_count": 1,
   "metadata": {},
   "outputs": [],
   "source": [
    "class Queue:\n",
    "    def __init__(self,maxSize):\n",
    "        self.items = maxSize * [None]\n",
    "        self.maxSize = maxSize\n",
    "        self.start = -1\n",
    "        self.top = -1\n",
    "        \n",
    "    def __str__(self):\n",
    "        values = [str(x) for x in self.items]\n",
    "        return \" \".join(values)"
   ]
  },
  {
   "cell_type": "code",
   "execution_count": null,
   "metadata": {},
   "outputs": [],
   "source": []
  }
 ],
 "metadata": {
  "kernelspec": {
   "display_name": "Python 3",
   "language": "python",
   "name": "python3"
  },
  "language_info": {
   "codemirror_mode": {
    "name": "ipython",
    "version": 3
   },
   "file_extension": ".py",
   "mimetype": "text/x-python",
   "name": "python",
   "nbconvert_exporter": "python",
   "pygments_lexer": "ipython3",
   "version": "3.9.2+"
  }
 },
 "nbformat": 4,
 "nbformat_minor": 2
}
